{
 "cells": [
  {
   "cell_type": "markdown",
   "metadata": {},
   "source": [
    "# Manejar Datos ó Valores Faltantes Imputando con K-Vecinos más cercanos (KNN)"
   ]
  },
  {
   "cell_type": "markdown",
   "metadata": {},
   "source": [
    "## Imputacion \n",
    "K-vecinos mas cercanos (KNN)"
   ]
  },
  {
   "cell_type": "code",
   "execution_count": null,
   "metadata": {},
   "outputs": [],
   "source": [
    "import pandas as pd\n",
    "import numpy Este curso profundizará en las fases de ejecución y cierre del ciclo de vida del proyecto. Aprenderás a qué aspectos de un proyecto debes realizar un seguimiento y cómo realizarlo. También aprenderás a gestionar y comunicar de forma eficaz los cambios, las dependencias y los riesgos. A medida que explores la gestión de la calidad, aprenderás a medir la satisfacción del cliente e implementar técnicas de mejora continua y mejora de procesos. A continuación, examinarás cómo priorizar los datos, cómo usarlos para informar tu toma de decisiones y cómo presentar esos datos de manera efectiva. Luego, fortalecerás tus habilidades de liderazgo a medida que estudies las etapas del desarrollo del equipo y cómo administrar la dinámica del equipo. Después de eso, descubrirás herramientas que proporcionan una comunicación efectiva del equipo del proyecto, cómo organizar y facilitar las reuniones, y cómo comunicar de manera eficaz las actualizaciones de estado del proyecto. Finalmente, examinarás los pasos del proceso de cierre del proyecto y cómo crear y compartir la documentación de cierre del proyecto. Los actuales gerentes de proyectos de Google seguirán instruyéndote y proporcionándote enfoques prácticos para realizar estas tareas, las mejores herramientas de gestión de proyectEste curso profundizará en las fases de ejecución y cierre del ciclo de vida del proyecto. Aprenderás a qué aspectos de un proyecto debes realizar un seguimiento y cómo realizarlo. También aprenderás a gestionar y comunicar de forma eficaz los cambios, las dependencias y los riesgos. A medida que explores la gestión de la calidad, aprenderás a medir la satisfacción del cliente e implementar técnicas de mejora continua y mejora de procesos. A continuación, examinarás cómo priorizar los datos, cómo usarlos para informar tu toma de decisiones y cómo presentar esos datos de manera efectiva. Luego, fortalecerás tus habilidades de liderazgo a medida que estudies las etapas del desarrollo del equipo y cómo administrar la dinámica del equipo. Después de eso, descubrirás herramientas que proporcionan una comunicación efectiva del equipo del proyecto, cómo organizar y facilitar las reuniones, y cómo comunicar de manera eficaz las actualizaciones de estado del proyecto. Finalmente, examinarás los pasos del proceso de cierre del proyecto y cómo crear y compartir la documentación de cierre del proyecto. Los actuales gerentes de proyectos de Google seguirán instruyéndote y proporcionándote enfoques prácticos para realizar estas tareas, las mejores herramientas de gestión de proyectos y los recursos adecuados para el trabajo.os y los recursos adecuados para el trabajo.as np"
   ]
  },
  {
   "cell_type": "markdown",
   "metadata": {},
   "source": []
  }
 ],
 "metadata": {
  "language_info": {
   "name": "python"
  },
  "orig_nbformat": 4
 },
 "nbformat": 4,
 "nbformat_minor": 2
}
