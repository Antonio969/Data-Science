{
 "cells": [
  {
   "cell_type": "markdown",
   "metadata": {},
   "source": [
    "# Por qué y cómo codificar datos Categóricos Ordinales"
   ]
  },
  {
   "cell_type": "markdown",
   "metadata": {},
   "source": [
    "## Datos Categoricos\n",
    "- Nominales: Las categorias que los caracterizan no tienen una cierta relacion de orden\n",
    "- Ordinales: Las categorias cuentan con una cierta relacion de orden \n",
    "\n",
    "No se puede asumir que las categorias son mutuamente equidistantes"
   ]
  },
  {
   "cell_type": "markdown",
   "metadata": {},
   "source": [
    "## Datos categoricos ordinales: Contexto\n",
    "#### ¿Que tan satisfecho esta con el servicio?\n",
    "- Muy insatisfecho\n",
    "- Insatisfecho\n",
    "- Neutral\n",
    "- Satisfecho\n",
    "- Muy satisfecho\n",
    "\n",
    "#### ¿Como calificaria la calidad de los alimentos?\n",
    "- Mala\n",
    "- Buena\n",
    "- Muy Buena\n",
    "- Excelente"
   ]
  },
  {
   "cell_type": "code",
   "execution_count": 16,
   "metadata": {},
   "outputs": [
    {
     "data": {
      "text/html": [
       "<div>\n",
       "<style scoped>\n",
       "    .dataframe tbody tr th:only-of-type {\n",
       "        vertical-align: middle;\n",
       "    }\n",
       "\n",
       "    .dataframe tbody tr th {\n",
       "        vertical-align: top;\n",
       "    }\n",
       "\n",
       "    .dataframe thead th {\n",
       "        text-align: right;\n",
       "    }\n",
       "</style>\n",
       "<table border=\"1\" class=\"dataframe\">\n",
       "  <thead>\n",
       "    <tr style=\"text-align: right;\">\n",
       "      <th></th>\n",
       "      <th>servicio</th>\n",
       "      <th>alimentos</th>\n",
       "    </tr>\n",
       "  </thead>\n",
       "  <tbody>\n",
       "    <tr>\n",
       "      <th>0</th>\n",
       "      <td>Muy insatisfecho</td>\n",
       "      <td>Mala</td>\n",
       "    </tr>\n",
       "    <tr>\n",
       "      <th>1</th>\n",
       "      <td>Insatisfecho</td>\n",
       "      <td>Buena</td>\n",
       "    </tr>\n",
       "    <tr>\n",
       "      <th>2</th>\n",
       "      <td>Neutral</td>\n",
       "      <td>Muy Buena</td>\n",
       "    </tr>\n",
       "    <tr>\n",
       "      <th>3</th>\n",
       "      <td>Satisfecho</td>\n",
       "      <td>Excelente</td>\n",
       "    </tr>\n",
       "    <tr>\n",
       "      <th>4</th>\n",
       "      <td>Muy satisfecho</td>\n",
       "      <td>Mala</td>\n",
       "    </tr>\n",
       "    <tr>\n",
       "      <th>5</th>\n",
       "      <td>Muy insatisfecho</td>\n",
       "      <td>Buena</td>\n",
       "    </tr>\n",
       "  </tbody>\n",
       "</table>\n",
       "</div>"
      ],
      "text/plain": [
       "           servicio  alimentos\n",
       "0  Muy insatisfecho       Mala\n",
       "1      Insatisfecho      Buena\n",
       "2           Neutral  Muy Buena\n",
       "3        Satisfecho  Excelente\n",
       "4    Muy satisfecho       Mala\n",
       "5  Muy insatisfecho      Buena"
      ]
     },
     "execution_count": 16,
     "metadata": {},
     "output_type": "execute_result"
    }
   ],
   "source": [
    "import pandas as pd \n",
    "import numpy as np\n",
    "\n",
    "categorias_servicio = ['Muy insatisfecho','Insatisfecho',\n",
    "                       'Neutral','Satisfecho','Muy satisfecho']\n",
    "\n",
    "Categorias_calidad = ['Mala','Buena','Muy Buena','Excelente']\n",
    "\n",
    "encuesta = {\n",
    "    'servicio': ['Muy insatisfecho','Insatisfecho',\n",
    "                       'Neutral','Satisfecho','Muy satisfecho', 'Muy insatisfecho'],\n",
    "    'alimentos':['Mala','Buena','Muy Buena','Excelente','Mala','Buena']\n",
    "}\n",
    "\n",
    "# 0: cliente esporadico     1: cliente frecuente\n",
    "tipo_cliente = [0,0,1,1,0,1]\n",
    "\n",
    "pd.DataFrame(encuesta)"
   ]
  },
  {
   "cell_type": "markdown",
   "metadata": {},
   "source": [
    "### Codificador ordinal\n",
    "Evita la maldicion de la dimensionalidad, pero..."
   ]
  },
  {
   "cell_type": "code",
   "execution_count": 17,
   "metadata": {},
   "outputs": [
    {
     "data": {
      "text/html": [
       "<div>\n",
       "<style scoped>\n",
       "    .dataframe tbody tr th:only-of-type {\n",
       "        vertical-align: middle;\n",
       "    }\n",
       "\n",
       "    .dataframe tbody tr th {\n",
       "        vertical-align: top;\n",
       "    }\n",
       "\n",
       "    .dataframe thead th {\n",
       "        text-align: right;\n",
       "    }\n",
       "</style>\n",
       "<table border=\"1\" class=\"dataframe\">\n",
       "  <thead>\n",
       "    <tr style=\"text-align: right;\">\n",
       "      <th></th>\n",
       "      <th>servicio</th>\n",
       "      <th>alimentos</th>\n",
       "    </tr>\n",
       "  </thead>\n",
       "  <tbody>\n",
       "    <tr>\n",
       "      <th>0</th>\n",
       "      <td>0.0</td>\n",
       "      <td>0.0</td>\n",
       "    </tr>\n",
       "    <tr>\n",
       "      <th>1</th>\n",
       "      <td>1.0</td>\n",
       "      <td>1.0</td>\n",
       "    </tr>\n",
       "    <tr>\n",
       "      <th>2</th>\n",
       "      <td>2.0</td>\n",
       "      <td>2.0</td>\n",
       "    </tr>\n",
       "    <tr>\n",
       "      <th>3</th>\n",
       "      <td>3.0</td>\n",
       "      <td>3.0</td>\n",
       "    </tr>\n",
       "    <tr>\n",
       "      <th>4</th>\n",
       "      <td>4.0</td>\n",
       "      <td>0.0</td>\n",
       "    </tr>\n",
       "    <tr>\n",
       "      <th>5</th>\n",
       "      <td>0.0</td>\n",
       "      <td>1.0</td>\n",
       "    </tr>\n",
       "  </tbody>\n",
       "</table>\n",
       "</div>"
      ],
      "text/plain": [
       "   servicio  alimentos\n",
       "0       0.0        0.0\n",
       "1       1.0        1.0\n",
       "2       2.0        2.0\n",
       "3       3.0        3.0\n",
       "4       4.0        0.0\n",
       "5       0.0        1.0"
      ]
     },
     "execution_count": 17,
     "metadata": {},
     "output_type": "execute_result"
    }
   ],
   "source": [
    "from sklearn.preprocessing import OrdinalEncoder\n",
    "\n",
    "datos_ord = pd.DataFrame(encuesta)\n",
    "\n",
    "codificador = OrdinalEncoder(categories=[categorias_servicio,Categorias_calidad])\n",
    "\n",
    "datos_ord = pd.DataFrame(codificador.fit_transform(datos_ord),\n",
    "                         columns=['servicio','alimentos'])\n",
    "\n",
    "datos_ord\n"
   ]
  },
  {
   "cell_type": "code",
   "execution_count": 18,
   "metadata": {},
   "outputs": [
    {
     "name": "stdout",
     "output_type": "stream",
     "text": [
      "   servicio  alimentos\n",
      "0       0.0        0.0\n",
      "1       1.0        1.0\n",
      "2       2.0        2.0\n",
      "3       3.0        3.0\n",
      "4       4.0        0.0\n",
      "5       0.0        1.0\n",
      "[array(['Muy insatisfecho', 'Insatisfecho', 'Neutral', 'Satisfecho',\n",
      "       'Muy satisfecho'], dtype=object), array(['Mala', 'Buena', 'Muy Buena', 'Excelente'], dtype=object)]\n"
     ]
    }
   ],
   "source": [
    "print(datos_ord)\n",
    "print(codificador.categories_)"
   ]
  },
  {
   "cell_type": "markdown",
   "metadata": {},
   "source": [
    "### Codificador OneHotEncoder\n",
    "Los potenciales valores los convierte en columnas "
   ]
  },
  {
   "cell_type": "code",
   "execution_count": 19,
   "metadata": {},
   "outputs": [
    {
     "name": "stdout",
     "output_type": "stream",
     "text": [
      "  (0, 1)\t1.0\n",
      "  (0, 7)\t1.0\n",
      "  (1, 0)\t1.0\n",
      "  (1, 5)\t1.0\n",
      "  (2, 3)\t1.0\n",
      "  (2, 8)\t1.0\n",
      "  (3, 4)\t1.0\n",
      "  (3, 6)\t1.0\n",
      "  (4, 2)\t1.0\n",
      "  (4, 7)\t1.0\n",
      "  (5, 1)\t1.0\n",
      "  (5, 5)\t1.0\n",
      "[[0. 1. 0. 0. 0. 0. 0. 1. 0.]\n",
      " [1. 0. 0. 0. 0. 1. 0. 0. 0.]\n",
      " [0. 0. 0. 1. 0. 0. 0. 0. 1.]\n",
      " [0. 0. 0. 0. 1. 0. 1. 0. 0.]\n",
      " [0. 0. 1. 0. 0. 0. 0. 1. 0.]\n",
      " [0. 1. 0. 0. 0. 1. 0. 0. 0.]]\n"
     ]
    }
   ],
   "source": [
    "from sklearn.preprocessing import OneHotEncoder\n",
    "\n",
    "datos_one = pd.DataFrame(encuesta)\n",
    "\n",
    "codificador = OneHotEncoder()# Retorna una matriz dispersa\n",
    "\n",
    "print(codificador.fit_transform(datos_one))\n",
    "\n",
    "print(codificador.fit_transform(datos_one).toarray())"
   ]
  },
  {
   "cell_type": "code",
   "execution_count": 20,
   "metadata": {},
   "outputs": [
    {
     "name": "stdout",
     "output_type": "stream",
     "text": [
      "['Insatisfecho' 'Muy insatisfecho' 'Muy satisfecho' 'Neutral' 'Satisfecho'\n",
      " 'Buena' 'Excelente' 'Mala' 'Muy Buena']\n"
     ]
    }
   ],
   "source": [
    "print(np.concatenate(codificador.categories_))"
   ]
  },
  {
   "cell_type": "code",
   "execution_count": 21,
   "metadata": {},
   "outputs": [
    {
     "data": {
      "text/html": [
       "<div>\n",
       "<style scoped>\n",
       "    .dataframe tbody tr th:only-of-type {\n",
       "        vertical-align: middle;\n",
       "    }\n",
       "\n",
       "    .dataframe tbody tr th {\n",
       "        vertical-align: top;\n",
       "    }\n",
       "\n",
       "    .dataframe thead th {\n",
       "        text-align: right;\n",
       "    }\n",
       "</style>\n",
       "<table border=\"1\" class=\"dataframe\">\n",
       "  <thead>\n",
       "    <tr style=\"text-align: right;\">\n",
       "      <th></th>\n",
       "      <th>Insatisfecho</th>\n",
       "      <th>Muy insatisfecho</th>\n",
       "      <th>Muy satisfecho</th>\n",
       "      <th>Neutral</th>\n",
       "      <th>Satisfecho</th>\n",
       "      <th>Buena</th>\n",
       "      <th>Excelente</th>\n",
       "      <th>Mala</th>\n",
       "      <th>Muy Buena</th>\n",
       "    </tr>\n",
       "  </thead>\n",
       "  <tbody>\n",
       "    <tr>\n",
       "      <th>0</th>\n",
       "      <td>0.0</td>\n",
       "      <td>1.0</td>\n",
       "      <td>0.0</td>\n",
       "      <td>0.0</td>\n",
       "      <td>0.0</td>\n",
       "      <td>0.0</td>\n",
       "      <td>0.0</td>\n",
       "      <td>1.0</td>\n",
       "      <td>0.0</td>\n",
       "    </tr>\n",
       "    <tr>\n",
       "      <th>1</th>\n",
       "      <td>1.0</td>\n",
       "      <td>0.0</td>\n",
       "      <td>0.0</td>\n",
       "      <td>0.0</td>\n",
       "      <td>0.0</td>\n",
       "      <td>1.0</td>\n",
       "      <td>0.0</td>\n",
       "      <td>0.0</td>\n",
       "      <td>0.0</td>\n",
       "    </tr>\n",
       "    <tr>\n",
       "      <th>2</th>\n",
       "      <td>0.0</td>\n",
       "      <td>0.0</td>\n",
       "      <td>0.0</td>\n",
       "      <td>1.0</td>\n",
       "      <td>0.0</td>\n",
       "      <td>0.0</td>\n",
       "      <td>0.0</td>\n",
       "      <td>0.0</td>\n",
       "      <td>1.0</td>\n",
       "    </tr>\n",
       "    <tr>\n",
       "      <th>3</th>\n",
       "      <td>0.0</td>\n",
       "      <td>0.0</td>\n",
       "      <td>0.0</td>\n",
       "      <td>0.0</td>\n",
       "      <td>1.0</td>\n",
       "      <td>0.0</td>\n",
       "      <td>1.0</td>\n",
       "      <td>0.0</td>\n",
       "      <td>0.0</td>\n",
       "    </tr>\n",
       "    <tr>\n",
       "      <th>4</th>\n",
       "      <td>0.0</td>\n",
       "      <td>0.0</td>\n",
       "      <td>1.0</td>\n",
       "      <td>0.0</td>\n",
       "      <td>0.0</td>\n",
       "      <td>0.0</td>\n",
       "      <td>0.0</td>\n",
       "      <td>1.0</td>\n",
       "      <td>0.0</td>\n",
       "    </tr>\n",
       "    <tr>\n",
       "      <th>5</th>\n",
       "      <td>0.0</td>\n",
       "      <td>1.0</td>\n",
       "      <td>0.0</td>\n",
       "      <td>0.0</td>\n",
       "      <td>0.0</td>\n",
       "      <td>1.0</td>\n",
       "      <td>0.0</td>\n",
       "      <td>0.0</td>\n",
       "      <td>0.0</td>\n",
       "    </tr>\n",
       "  </tbody>\n",
       "</table>\n",
       "</div>"
      ],
      "text/plain": [
       "   Insatisfecho  Muy insatisfecho  Muy satisfecho  Neutral  Satisfecho  Buena   \n",
       "0           0.0               1.0             0.0      0.0         0.0    0.0  \\\n",
       "1           1.0               0.0             0.0      0.0         0.0    1.0   \n",
       "2           0.0               0.0             0.0      1.0         0.0    0.0   \n",
       "3           0.0               0.0             0.0      0.0         1.0    0.0   \n",
       "4           0.0               0.0             1.0      0.0         0.0    0.0   \n",
       "5           0.0               1.0             0.0      0.0         0.0    1.0   \n",
       "\n",
       "   Excelente  Mala  Muy Buena  \n",
       "0        0.0   1.0        0.0  \n",
       "1        0.0   0.0        0.0  \n",
       "2        0.0   0.0        1.0  \n",
       "3        1.0   0.0        0.0  \n",
       "4        0.0   1.0        0.0  \n",
       "5        0.0   0.0        0.0  "
      ]
     },
     "execution_count": 21,
     "metadata": {},
     "output_type": "execute_result"
    }
   ],
   "source": [
    "datos_one = pd.DataFrame(codificador.fit_transform(datos_one).toarray(),\n",
    "                        columns=np.concatenate(codificador.categories_))\n",
    "\n",
    "datos_one"
   ]
  },
  {
   "cell_type": "markdown",
   "metadata": {},
   "source": [
    "### Comparacion de las codificaciones \n",
    "Calsificador: Regresion logistica"
   ]
  },
  {
   "cell_type": "code",
   "execution_count": 22,
   "metadata": {},
   "outputs": [
    {
     "name": "stdout",
     "output_type": "stream",
     "text": [
      "\n",
      "*** Datos Escalados de la Codificación Ordinal\n",
      "   servicio  alimentos\n",
      "0       0.0        0.0\n",
      "1       1.0        1.0\n",
      "2       2.0        2.0\n",
      "3       3.0        3.0\n",
      "4       4.0        0.0\n",
      "5       0.0        1.0\n",
      "[[0.         0.        ]\n",
      " [0.25       0.33333333]\n",
      " [0.5        0.66666667]\n",
      " [0.75       1.        ]\n",
      " [1.         0.        ]\n",
      " [0.         0.33333333]]\n",
      "\n",
      "*** Clasificación con Datos codificados con OrdinalEncoder\n",
      "Predicciones: [0 0 1 1 0 0]\n",
      "Clases correctas: [0, 0, 1, 1, 0, 1]\n",
      "[[0.56489598 0.43510402]\n",
      " [0.50845928 0.49154072]\n",
      " [0.45180614 0.54819386]\n",
      " [0.39637512 0.60362488]\n",
      " [0.57175647 0.42824353]\n",
      " [0.50671189 0.49328811]]\n",
      "\n",
      "*** Clasificación con Datos codificados con OneHotEncoder\n",
      "Predicciones: [0 0 1 1 0 1]\n",
      "Clases correctas: [0, 0, 1, 1, 0, 1]\n",
      "[[0.62301432 0.37698568]\n",
      " [0.57519021 0.42480979]\n",
      " [0.32279763 0.67720237]\n",
      " [0.32279763 0.67720237]\n",
      " [0.70505958 0.29494042]\n",
      " [0.45116842 0.54883158]]\n"
     ]
    }
   ],
   "source": [
    "from sklearn.linear_model import LogisticRegression\n",
    "from sklearn.preprocessing import MinMaxScaler\n",
    "\n",
    "print(\"\\n*** Datos Escalados de la Codificación Ordinal\")\n",
    "escalador = MinMaxScaler()\n",
    "print(datos_ord)\n",
    "datos_ord = escalador.fit_transform(datos_ord)\n",
    "print(datos_ord)\n",
    "\n",
    "print(\"\\n*** Clasificación con Datos codificados con OrdinalEncoder\")\n",
    "modelo = LogisticRegression().fit(datos_ord, tipo_cliente)\n",
    "print(\"Predicciones:\", modelo.predict(datos_ord))\n",
    "print(\"Clases correctas:\", tipo_cliente)\n",
    "print(modelo.predict_proba(datos_ord))\n",
    "\n",
    "print(\"\\n*** Clasificación con Datos codificados con OneHotEncoder\")\n",
    "modelo = LogisticRegression().fit(datos_one, tipo_cliente)\n",
    "print(\"Predicciones:\", modelo.predict(datos_one))\n",
    "print(\"Clases correctas:\", tipo_cliente)\n",
    "print(modelo.predict_proba(datos_one))"
   ]
  },
  {
   "cell_type": "code",
   "execution_count": null,
   "metadata": {},
   "outputs": [],
   "source": []
  }
 ],
 "metadata": {
  "kernelspec": {
   "display_name": "Python 3",
   "language": "python",
   "name": "python3"
  },
  "language_info": {
   "codemirror_mode": {
    "name": "ipython",
    "version": 3
   },
   "file_extension": ".py",
   "mimetype": "text/x-python",
   "name": "python",
   "nbconvert_exporter": "python",
   "pygments_lexer": "ipython3",
   "version": "3.11.3"
  },
  "orig_nbformat": 4
 },
 "nbformat": 4,
 "nbformat_minor": 2
}
