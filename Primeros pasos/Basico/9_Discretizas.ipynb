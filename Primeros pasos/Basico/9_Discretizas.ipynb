{
 "cells": [
  {
   "cell_type": "markdown",
   "metadata": {},
   "source": [
    "# 3 Razones para Discretizar Datos Numéricos y Cómo Discretizar con Pandas"
   ]
  },
  {
   "cell_type": "markdown",
   "metadata": {},
   "source": [
    "## Aplicaciones de la discretizacion de las variables\n",
    "- Podemos convertir un proceso de regresion a un proceso de clasificacion\n",
    "- Eliminacion de los datos atipicos \n",
    "- Una forma diferente de expresar nuestra informacion \n",
    "\n",
    "Al proceso de discretizacion se le nombra tambien Categorizar o compatimentar, existen dos mecaninismos tipicos para categorizar"
   ]
  },
  {
   "cell_type": "code",
   "execution_count": 1,
   "metadata": {},
   "outputs": [],
   "source": [
    "import pandas as pd\n",
    "import numpy as np"
   ]
  },
  {
   "cell_type": "code",
   "execution_count": 10,
   "metadata": {},
   "outputs": [
    {
     "name": "stdout",
     "output_type": "stream",
     "text": [
      "[  0.901  34.     67.    100.   ]\n",
      "[0 0 0 0 0 0 1 1 1 2 2 2]\n",
      "Index(['baja', 'media', 'alta'], dtype='object')\n",
      "['baja' 'baja' 'baja' 'baja' 'baja' 'baja' 'media' 'media' 'media' 'alta'\n",
      " 'alta' 'alta']\n"
     ]
    }
   ],
   "source": [
    "edades = np.array([1,7,8,15,16,28,35,50,55,70,75,100])\n",
    "resultado = pd.cut(edades, bins = 3,\n",
    "                   labels = ['baja','media','alta'],\n",
    "                   include_lowest=True,\n",
    "                   retbins=True)\n",
    "\n",
    " \n",
    "print(resultado[1])\n",
    "print(resultado[0].codes)\n",
    "print(resultado[0].categories)\n",
    "print(np.array(resultado[0]))"
   ]
  },
  {
   "cell_type": "markdown",
   "metadata": {},
   "source": [
    "# Contenedores a medida"
   ]
  },
  {
   "cell_type": "code",
   "execution_count": 11,
   "metadata": {},
   "outputs": [
    {
     "name": "stdout",
     "output_type": "stream",
     "text": [
      "[ 0. 11. 17. 59. inf]\n",
      "[0 0 0 1 1 2 2 2 2 3 3 3]\n",
      "Index(['infante', 'joven', 'adulto', 'mayor'], dtype='object')\n",
      "['infante' 'infante' 'infante' 'joven' 'joven' 'adulto' 'adulto' 'adulto'\n",
      " 'adulto' 'mayor' 'mayor' 'mayor']\n"
     ]
    }
   ],
   "source": [
    "edades = np.array([1,7,8,15,16,28,35,50,55,70,75,100])\n",
    "resultado = pd.cut(edades, bins = [0,11,17,59,np.inf],\n",
    "                   labels = ['infante','joven','adulto','mayor'],\n",
    "                   include_lowest=True,\n",
    "                   retbins=True)\n",
    "\n",
    " \n",
    "print(resultado[1])\n",
    "print(resultado[0].codes)\n",
    "print(resultado[0].categories)\n",
    "print(np.array(resultado[0]))"
   ]
  },
  {
   "cell_type": "code",
   "execution_count": null,
   "metadata": {},
   "outputs": [],
   "source": []
  }
 ],
 "metadata": {
  "kernelspec": {
   "display_name": "Python 3",
   "language": "python",
   "name": "python3"
  },
  "language_info": {
   "codemirror_mode": {
    "name": "ipython",
    "version": 3
   },
   "file_extension": ".py",
   "mimetype": "text/x-python",
   "name": "python",
   "nbconvert_exporter": "python",
   "pygments_lexer": "ipython3",
   "version": "3.11.3"
  },
  "orig_nbformat": 4
 },
 "nbformat": 4,
 "nbformat_minor": 2
}
