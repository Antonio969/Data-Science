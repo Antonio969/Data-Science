{
 "cells": [
  {
   "cell_type": "markdown",
   "metadata": {},
   "source": [
    "# Bucles y Ciclos(Loops)"
   ]
  },
  {
   "cell_type": "code",
   "execution_count": 4,
   "metadata": {},
   "outputs": [],
   "source": [
    "edades = [12,23,31,14,25,36,17,85,19,10]"
   ]
  },
  {
   "cell_type": "code",
   "execution_count": 9,
   "metadata": {},
   "outputs": [],
   "source": [
    "def verificar_edad(edad):\n",
    "    if edad >= 18:\n",
    "        print('Tienes edad suficiente para conducir')\n",
    "    else:\n",
    "        print('Todavia no tienes la edad suficiente')"
   ]
  },
  {
   "cell_type": "code",
   "execution_count": 10,
   "metadata": {},
   "outputs": [
    {
     "name": "stdout",
     "output_type": "stream",
     "text": [
      "Todavia no tienes la edad suficiente\n",
      "Tienes edad suficiente para conducir\n",
      "Tienes edad suficiente para conducir\n",
      "Todavia no tienes la edad suficiente\n",
      "Tienes edad suficiente para conducir\n",
      "Tienes edad suficiente para conducir\n",
      "Todavia no tienes la edad suficiente\n",
      "Tienes edad suficiente para conducir\n",
      "Tienes edad suficiente para conducir\n",
      "Todavia no tienes la edad suficiente\n"
     ]
    }
   ],
   "source": [
    "# Bucle fuera de la funcion\n",
    "for edad in edades:\n",
    "    verificar_edad(edad)"
   ]
  },
  {
   "cell_type": "code",
   "execution_count": 11,
   "metadata": {},
   "outputs": [],
   "source": [
    "def verificar_edad_bucle(lista):\n",
    "    for edad in lista:\n",
    "        if edad >= 18:\n",
    "            print('Tienes edad suficiente para conducir')\n",
    "        else:\n",
    "            print('Todavia no tienes la edad suficiente')"
   ]
  },
  {
   "cell_type": "code",
   "execution_count": 12,
   "metadata": {},
   "outputs": [
    {
     "name": "stdout",
     "output_type": "stream",
     "text": [
      "Todavia no tienes la edad suficiente\n",
      "Tienes edad suficiente para conducir\n",
      "Tienes edad suficiente para conducir\n",
      "Todavia no tienes la edad suficiente\n",
      "Tienes edad suficiente para conducir\n",
      "Tienes edad suficiente para conducir\n",
      "Todavia no tienes la edad suficiente\n",
      "Tienes edad suficiente para conducir\n",
      "Tienes edad suficiente para conducir\n",
      "Todavia no tienes la edad suficiente\n"
     ]
    }
   ],
   "source": [
    "verificar_edad_bucle(edades)"
   ]
  },
  {
   "cell_type": "code",
   "execution_count": null,
   "metadata": {},
   "outputs": [],
   "source": []
  }
 ],
 "metadata": {
  "kernelspec": {
   "display_name": "Python 3",
   "language": "python",
   "name": "python3"
  },
  "language_info": {
   "codemirror_mode": {
    "name": "ipython",
    "version": 3
   },
   "file_extension": ".py",
   "mimetype": "text/x-python",
   "name": "python",
   "nbconvert_exporter": "python",
   "pygments_lexer": "ipython3",
   "version": "3.11.3"
  },
  "orig_nbformat": 4
 },
 "nbformat": 4,
 "nbformat_minor": 2
}
