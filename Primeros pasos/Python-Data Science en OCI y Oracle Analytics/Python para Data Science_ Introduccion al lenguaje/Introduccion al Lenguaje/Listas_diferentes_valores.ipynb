{
 "cells": [
  {
   "cell_type": "markdown",
   "metadata": {},
   "source": [
    "# Lista con diferentes tipos de datos "
   ]
  },
  {
   "cell_type": "code",
   "execution_count": 1,
   "metadata": {},
   "outputs": [],
   "source": [
    "lista = ['Aguacate', 2, True, 'Mexico', [2018,3]]"
   ]
  },
  {
   "cell_type": "code",
   "execution_count": 3,
   "metadata": {},
   "outputs": [
    {
     "name": "stdout",
     "output_type": "stream",
     "text": [
      "El elemento Aguacate de la lista es del tipo: <class 'str'>\n",
      "El elemento 2 de la lista es del tipo: <class 'int'>\n",
      "El elemento True de la lista es del tipo: <class 'bool'>\n",
      "El elemento Mexico de la lista es del tipo: <class 'str'>\n",
      "El elemento [2018, 3] de la lista es del tipo: <class 'list'>\n"
     ]
    }
   ],
   "source": [
    "for elemento in lista:\n",
    "    print(f'El elemento {elemento} de la lista es del tipo:', type(elemento))"
   ]
  },
  {
   "cell_type": "code",
   "execution_count": null,
   "metadata": {},
   "outputs": [],
   "source": []
  }
 ],
 "metadata": {
  "kernelspec": {
   "display_name": "Python 3",
   "language": "python",
   "name": "python3"
  },
  "language_info": {
   "codemirror_mode": {
    "name": "ipython",
    "version": 3
   },
   "file_extension": ".py",
   "mimetype": "text/x-python",
   "name": "python",
   "nbconvert_exporter": "python",
   "pygments_lexer": "ipython3",
   "version": "3.11.3"
  },
  "orig_nbformat": 4
 },
 "nbformat": 4,
 "nbformat_minor": 2
}
