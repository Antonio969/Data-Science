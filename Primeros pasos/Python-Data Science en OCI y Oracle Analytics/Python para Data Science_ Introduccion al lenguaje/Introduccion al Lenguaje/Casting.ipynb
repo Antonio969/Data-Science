{
 "cells": [
  {
   "cell_type": "markdown",
   "metadata": {},
   "source": [
    "# Conversion de tipos\n"
   ]
  },
  {
   "cell_type": "code",
   "execution_count": 6,
   "metadata": {},
   "outputs": [],
   "source": [
    "edad = 12\n",
    "\n",
    "def verificar_edad_sin_parametros():\n",
    "    edad = float(input('Escriba su edad: '))\n",
    "    if edad >= 18:\n",
    "        print('Tienes edad suficiente para conducir')\n",
    "    else:\n",
    "        print('Todavia no tienes la edad suficiente')"
   ]
  },
  {
   "cell_type": "code",
   "execution_count": 7,
   "metadata": {},
   "outputs": [
    {
     "name": "stdout",
     "output_type": "stream",
     "text": [
      "Todavia no tienes la edad suficiente\n"
     ]
    }
   ],
   "source": [
    "verificar_edad_sin_parametros()"
   ]
  },
  {
   "cell_type": "code",
   "execution_count": null,
   "metadata": {},
   "outputs": [],
   "source": []
  }
 ],
 "metadata": {
  "kernelspec": {
   "display_name": "Python 3",
   "language": "python",
   "name": "python3"
  },
  "language_info": {
   "codemirror_mode": {
    "name": "ipython",
    "version": 3
   },
   "file_extension": ".py",
   "mimetype": "text/x-python",
   "name": "python",
   "nbconvert_exporter": "python",
   "pygments_lexer": "ipython3",
   "version": "3.11.3"
  },
  "orig_nbformat": 4
 },
 "nbformat": 4,
 "nbformat_minor": 2
}
